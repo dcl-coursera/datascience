{
 "cells": [
  {
   "cell_type": "markdown",
   "id": "dbeb5a6d-dc9f-4dcd-b966-acd197f6ac99",
   "metadata": {},
   "source": [
    "# Data Science Tools and Ecosystem"
   ]
  },
  {
   "cell_type": "markdown",
   "id": "d0aef67c-d149-4bea-96c6-5d3294034aca",
   "metadata": {},
   "source": [
    "**Objectives:**\n",
    "* List popular languages in data science\n",
    "* List commonly used libraries in data science\n",
    "* List three commonly used data science tools\n",
    "* Show examples of Python arithmetic expressions"
   ]
  },
  {
   "cell_type": "markdown",
   "id": "ffbae1b1-1249-488f-9cca-3dd9408ce7af",
   "metadata": {},
   "source": [
    "In this notebook, Data Science Tools and Ecosystem are summarized."
   ]
  },
  {
   "cell_type": "markdown",
   "id": "fa55ecec-8494-4baf-98fb-622cf9fdf413",
   "metadata": {},
   "source": [
    "Some of the popular languages that Data Scientists use are:\n",
    "\n",
    "1.  Python\n",
    "2.  R\n",
    "3.  SQL\n",
    "4.  Julia\n",
    "5.  C++\n",
    "6.  Java "
   ]
  },
  {
   "cell_type": "markdown",
   "id": "c1f9ce96-80a9-4bdd-903b-d7b30ce62ed0",
   "metadata": {},
   "source": [
    "Some of the commonly used libraries used by Data Scientists include:\n",
    "\n",
    "1. Numpy\n",
    "2. Pandas\n",
    "3. Mathplotlib\n",
    "4. Seaborn\n",
    "5. scikit learn\n",
    "6. TensorFlow"
   ]
  },
  {
   "cell_type": "markdown",
   "id": "90d3992e-099b-412b-abb2-c984b7f494f1",
   "metadata": {
    "tags": []
   },
   "source": [
    "|Data Sciecne Tools|\n",
    "|------------------|\n",
    "|Jupyter Notebook & Lab|\n",
    "|git & github|\n",
    "|anaconda|"
   ]
  },
  {
   "cell_type": "markdown",
   "id": "46f6646b-8e0a-410b-a01e-8f28e350c6dc",
   "metadata": {},
   "source": [
    "### Below are a few examples of evaluating arithmetic expressions in Python."
   ]
  },
  {
   "cell_type": "code",
   "execution_count": 2,
   "id": "374a8544-0517-4179-b2af-ee9dd9390a7e",
   "metadata": {
    "tags": []
   },
   "outputs": [
    {
     "data": {
      "text/plain": [
       "17"
      ]
     },
     "execution_count": 2,
     "metadata": {},
     "output_type": "execute_result"
    }
   ],
   "source": [
    "# This a simple arithmetic expression to mutiply then add integers.\n",
    "\n",
    "(3*4)+5\n"
   ]
  },
  {
   "cell_type": "code",
   "execution_count": 3,
   "id": "0e7860df-e32c-43f8-947c-da7633d24d91",
   "metadata": {
    "tags": []
   },
   "outputs": [
    {
     "data": {
      "text/plain": [
       "3.3333333333333335"
      ]
     },
     "execution_count": 3,
     "metadata": {},
     "output_type": "execute_result"
    }
   ],
   "source": [
    "# This will convert 200 minutes to hours by diving by 60.\n",
    "\n",
    "200/60"
   ]
  },
  {
   "cell_type": "markdown",
   "id": "dff212b5-cd73-415c-92b6-97d988319ace",
   "metadata": {
    "tags": []
   },
   "source": [
    "**Author:**\n",
    "\n",
    "David LeFevre"
   ]
  }
 ],
 "metadata": {
  "kernelspec": {
   "display_name": "Python",
   "language": "python",
   "name": "conda-env-python-py"
  },
  "language_info": {
   "codemirror_mode": {
    "name": "ipython",
    "version": 3
   },
   "file_extension": ".py",
   "mimetype": "text/x-python",
   "name": "python",
   "nbconvert_exporter": "python",
   "pygments_lexer": "ipython3",
   "version": "3.7.12"
  }
 },
 "nbformat": 4,
 "nbformat_minor": 5
}
